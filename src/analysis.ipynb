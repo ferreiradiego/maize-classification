{
 "cells": [
  {
   "attachments": {},
   "cell_type": "markdown",
   "metadata": {},
   "source": [
    "#### Import the packages and functions"
   ]
  },
  {
   "cell_type": "code",
   "execution_count": null,
   "metadata": {},
   "outputs": [],
   "source": [
    "## --- Import the packages and functions\n",
    "from tools.functions import *\n",
    "import matplotlib.pyplot as plt\n",
    "import pickle"
   ]
  },
  {
   "cell_type": "markdown",
   "metadata": {},
   "source": [
    "#### Definitions, parameters and directory paths"
   ]
  },
  {
   "cell_type": "code",
   "execution_count": null,
   "metadata": {},
   "outputs": [],
   "source": [
    "# --- Definitions, parameters and directory paths\n",
    "# Define the base path for your images\n",
    "base_path       = '../img'\n",
    "\n",
    "# Define the path to your dataset within the base path and using gray images\n",
    "dataset_path    = f'{base_path}/dataset/gray/'\n",
    "\n",
    "# List of ratios to be used for splitting the dataset into training and testing sets\n",
    "train_ratio     = [0.75, 0.8, 0.85, 0.9]\n",
    "\n",
    "# Threshold for normalizing the image data\n",
    "thresh_normalization = 0.500\n",
    "\n",
    "# List of thresholds to be considered 'good' in evaluation\n",
    "thresh_good     = [0.00, 0.10, 0.15]\n",
    "\n",
    "# Range of iterations to be performed during model training\n",
    "iterations      = range(1, 6)\n",
    "\n",
    "# Define different classification types for the model to learn. Each type is associated with a list of categories.\n",
    "classification_types = {'n_grains': ['50', '60', '70', '80', '90', '100'], \n",
    "                        'defect_stratified': ['0%', '10%', '15%', '20%', '25%', '30%'], \n",
    "                        'defect_thresholded': ['With defects', 'Healthy']}\n",
    "\n",
    "# Define labels for the x and y axes in plotting\n",
    "x_label = 'Predicted'\n",
    "y_label = 'True'\n",
    "\n",
    "## ---"
   ]
  },
  {
   "attachments": {},
   "cell_type": "markdown",
   "metadata": {},
   "source": [
    "#### Reading the dataframes and classification results"
   ]
  },
  {
   "cell_type": "code",
   "execution_count": 43,
   "metadata": {},
   "outputs": [],
   "source": [
    "files = ['../resources/df_train.pkl', '../resources/df_test.pkl', \n",
    "         '../resources/classification_metrics_results.pickle', '../resources/confusion_matrices.pickle']\n",
    "\n",
    "df_train, df_test, classification_metrics_results, confusion_matrices = (pickle.load(open(file, 'rb')) for file in files)"
   ]
  },
  {
   "attachments": {},
   "cell_type": "markdown",
   "metadata": {},
   "source": [
    "#### Exports a certain confusion matrix in pdf format"
   ]
  },
  {
   "cell_type": "code",
   "execution_count": null,
   "metadata": {},
   "outputs": [],
   "source": [
    "train_ratio_item = train_ratio[0]\n",
    "thresh_good_item = thresh_good[1]\n",
    "classification_type = 'n_grains'\n",
    "image_name = 'cm_075_ngrains'\n",
    "\n",
    "cm = confusion_matrices[train_ratio_item][thresh_good_item][classification_type]['mean']\n",
    "export_confusion_matrix_as_image(cm, classification_types[classification_type], f\"..\\{image_name}.pdf\", [x_label, y_label])"
   ]
  },
  {
   "attachments": {},
   "cell_type": "markdown",
   "metadata": {},
   "source": [
    "#### Shows the classification results for a certain specification"
   ]
  },
  {
   "cell_type": "code",
   "execution_count": null,
   "metadata": {},
   "outputs": [],
   "source": [
    "train_ratio_item = train_ratio[0]\n",
    "thresh_good_item = thresh_good[1]\n",
    "classification_type = 'defect_thresholded'\n",
    "\n",
    "display(pd.DataFrame(classification_metrics_results[train_ratio_item][thresh_good_item][classification_type]['mean']).transpose())"
   ]
  },
  {
   "attachments": {},
   "cell_type": "markdown",
   "metadata": {},
   "source": [
    "#### Visualize the effect of normalization"
   ]
  },
  {
   "cell_type": "code",
   "execution_count": null,
   "metadata": {},
   "outputs": [],
   "source": [
    "# Function to plot the relation between light/dark pixels before and after normalization\n",
    "def plot_relation(df_train, df_test, normalization_thresh, save_path):\n",
    "    # Copy the training DataFrame\n",
    "    df_copy = df_train.copy()\n",
    "    # Normalize the dataset based on the given normalization threshold\n",
    "    df_copy, df_test = normalize_dataset(df_copy, df_test, 'ratio_80to255_by_1to80', normalization_thresh)\n",
    "    # Filter the DataFrame for the specific condition and select the required columns\n",
    "    df_copy = df_copy.loc[(df_copy['defect_percentage'] == 0.00) & (df_copy['grain_quantity'] == 100), ['npixels_1to255_per_grain', 'ratio_80to255_by_1to80', 'normalized_ratio_80to255_by_1to80']].copy()\n",
    "    \n",
    "    # Create the x-axis data as a range of the length of the DataFrame\n",
    "    x = np.arange(len(df_copy))\n",
    "    # Extract the y-axis data for the two plots\n",
    "    y1 = df_copy['ratio_80to255_by_1to80']\n",
    "    y2 = df_copy['normalized_ratio_80to255_by_1to80']\n",
    "\n",
    "    # Set the style and context for a more elegant plot\n",
    "    sns.set(style='whitegrid', context='notebook')\n",
    "    plt.figure(figsize=(10, 6))\n",
    "\n",
    "    # Plot the two series with their respective labels\n",
    "    plt.plot(x, y1, label='Ratio between light/dark pixels', marker='o', linestyle='-', linewidth=2, markersize=4)\n",
    "    plt.plot(x, y2, label='Normalized ratio between light/dark pixels', marker='o', linestyle='-', linewidth=2, markersize=4)\n",
    "\n",
    "    # Set the labels for the x and y axis\n",
    "    plt.xlabel('Occurrence', fontsize=18)\n",
    "    plt.ylabel('Relation', fontsize=18)\n",
    "\n",
    "    # Display the legend, set the font size for the tick labels\n",
    "    plt.legend(fontsize=18)\n",
    "    plt.xticks(fontsize=16)\n",
    "    plt.yticks(fontsize=16)\n",
    "\n",
    "    # Set the color and width of the plot borders\n",
    "    for spine in plt.gca().spines.values():\n",
    "        spine.set_edgecolor('black')\n",
    "        spine.set_linewidth(1)\n",
    "\n",
    "    # Save the plot to the specified path and display it\n",
    "    plt.savefig(save_path, dpi=300, bbox_inches='tight')\n",
    "    plt.show()\n",
    "\n",
    "# List of normalization thresholds\n",
    "normalization_thresholds = [100.0, 1.000, 0.750, 0.500]\n",
    "# Corresponding save paths for the plots\n",
    "save_paths = [f'{base_path}\\without_normalization.pdf', f'{base_path}\\\\normalization_upTo_1.pdf', f'{base_path}\\\\normalization_upTo_075.pdf', f'{base_path}\\\\normalization_upTo_050.pdf']\n",
    "\n",
    "# For each normalization threshold and corresponding save path\n",
    "for normalization_thresh, save_path in zip(normalization_thresholds, save_paths):\n",
    "    # Call the function to plot the relation\n",
    "    plot_relation(df_train, df_test, normalization_thresh, save_path)\n"
   ]
  },
  {
   "attachments": {},
   "cell_type": "markdown",
   "metadata": {},
   "source": [
    "#### Plots the boxplot to verify the importance of cross-validation"
   ]
  },
  {
   "cell_type": "code",
   "execution_count": null,
   "metadata": {},
   "outputs": [],
   "source": [
    "# Define the train ratios and the range of iterations\n",
    "train_ratio = [0.75, 0.8, 0.85, 0.9]\n",
    "iterations = range(1, 6)\n",
    "\n",
    "# Initialize lists to store accuracy data and corresponding x-axis labels\n",
    "accuracy_data = []\n",
    "x_labels = []\n",
    "\n",
    "# For each training ratio, calculate accuracy for each iteration and append to 'accuracy_data'\n",
    "# Also, append the training ratio to 'x_labels'\n",
    "for ratio in train_ratio:\n",
    "    accuracy = []\n",
    "    for i in iterations:\n",
    "        accuracy.append(classification_metrics_results[ratio][thresh_good[1]]['defect_stratified'][i]['accuracy'])\n",
    "\n",
    "    accuracy_data.append(accuracy)\n",
    "    x_labels.append(ratio)\n",
    "\n",
    "# Set up the plot with a specified size and style\n",
    "plt.figure(figsize=(10, 6))\n",
    "plt.style.use('default')\n",
    "\n",
    "# Create the boxplot using the 'accuracy_data' and label the x-axis with 'x_labels'\n",
    "plt.boxplot(accuracy_data, labels=x_labels)\n",
    "\n",
    "# Set the x and y axis labels\n",
    "plt.xlabel('Training Percentage', fontsize=16)\n",
    "plt.ylabel('Accuracy', fontsize=16)\n",
    "\n",
    "# Set the font size for x and y tick labels\n",
    "plt.xticks(fontsize=14)\n",
    "plt.yticks(fontsize=14)\n",
    "\n",
    "# Set the plot borders to black and set the border line width\n",
    "for spine in plt.gca().spines.values():\n",
    "    spine.set_edgecolor('black')\n",
    "    spine.set_linewidth(1)\n",
    "\n",
    "# Remove gridlines from the plot\n",
    "plt.grid(False)\n",
    "\n",
    "# Save the figure as a PDF file with a specified dpi and bounding box tightness\n",
    "plt.savefig(r'..\\accuracy_boxplot_defect_stratified.pdf', dpi=300, bbox_inches='tight')\n",
    "\n",
    "# Display the plot\n",
    "plt.show()"
   ]
  }
 ],
 "metadata": {
  "kernelspec": {
   "display_name": "venv",
   "language": "python",
   "name": "python3"
  },
  "language_info": {
   "codemirror_mode": {
    "name": "ipython",
    "version": 3
   },
   "file_extension": ".py",
   "mimetype": "text/x-python",
   "name": "python",
   "nbconvert_exporter": "python",
   "pygments_lexer": "ipython3",
   "version": "3.11.3"
  },
  "orig_nbformat": 4,
  "vscode": {
   "interpreter": {
    "hash": "8067347c3ab30bb8892547d646c700eb911e2c3a99595b0254859100a92c716a"
   }
  }
 },
 "nbformat": 4,
 "nbformat_minor": 2
}
